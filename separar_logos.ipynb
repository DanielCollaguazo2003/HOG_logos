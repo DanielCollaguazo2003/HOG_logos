{
 "cells": [
  {
   "cell_type": "code",
   "execution_count": 1,
   "id": "56262a02-eec6-486a-bb33-bbafb59638c5",
   "metadata": {},
   "outputs": [
    {
     "name": "stdout",
     "output_type": "stream",
     "text": [
      "Archivos organizados correctamente.\n"
     ]
    }
   ],
   "source": [
    "import os\n",
    "import shutil\n",
    "\n",
    "# Ruta de la carpeta donde están los logos\n",
    "source_folder = \"archive/logos2\"  # Cambia esta ruta a la ubicación de tus archivos\n",
    "\n",
    "# Logos que quieres separar\n",
    "logos = [\"B_brother\", \"B_bratz\", \"D_dc\", \"D_dell\", \"Q_qualcomm\"]\n",
    "\n",
    "# Crear las carpetas de destino si no existen\n",
    "for logo in logos:\n",
    "    target_folder = os.path.join(source_folder, logo)\n",
    "    if not os.path.exists(target_folder):\n",
    "        os.makedirs(target_folder)\n",
    "\n",
    "# Recorrer todos los archivos en la carpeta\n",
    "for file_name in os.listdir(source_folder):\n",
    "    # Verificar si el archivo es una imagen y si su nombre empieza con uno de los logos\n",
    "    for logo in logos:\n",
    "        if file_name.startswith(logo) and file_name.endswith(\".png\"):\n",
    "            # Definir la ruta de origen y destino\n",
    "            source_file = os.path.join(source_folder, file_name)\n",
    "            target_file = os.path.join(source_folder, logo, file_name)\n",
    "\n",
    "            # Mover la imagen a la carpeta correspondiente\n",
    "            shutil.move(source_file, target_file)\n",
    "\n",
    "print(\"Archivos organizados correctamente.\")\n"
   ]
  }
 ],
 "metadata": {
  "kernelspec": {
   "display_name": "Python 3 (ipykernel)",
   "language": "python",
   "name": "python3"
  },
  "language_info": {
   "codemirror_mode": {
    "name": "ipython",
    "version": 3
   },
   "file_extension": ".py",
   "mimetype": "text/x-python",
   "name": "python",
   "nbconvert_exporter": "python",
   "pygments_lexer": "ipython3",
   "version": "3.12.4"
  }
 },
 "nbformat": 4,
 "nbformat_minor": 5
}
